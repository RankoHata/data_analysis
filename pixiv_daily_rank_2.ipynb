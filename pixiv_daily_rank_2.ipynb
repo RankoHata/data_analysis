{
 "cells": [
  {
   "cell_type": "code",
   "execution_count": 4,
   "metadata": {},
   "outputs": [],
   "source": [
    "import os\n",
    "import json\n",
    "import numpy as np\n",
    "import pandas as pd\n",
    "from pylab import *\n",
    "\n",
    "mpl.rcParams['font.sans-serif'] = ['SimHei']\n",
    "data_dir = 'C:/Users/san33/Work/Data/SanMu_1536367199_PixivSpider_daily_date/PixivSpider_daily_date/PixivSpider_data'\n",
    "\n",
    "# 获取需要解析的json数据文件名\n",
    "def get_dir_list(data_dir=data_dir, date_str='2010'):\n",
    "    temp = 'daily_rank_' + date_str\n",
    "    return [filename for filename in os.listdir(data_dir) if filename.startswith(temp) and filename.endswith('.json')]\n",
    "\n",
    "\n",
    "dir_list = get_dir_list()\n",
    "\n",
    "\n",
    "def get_json_data(dir_list, keys=['illust_id', 'rating_count', 'user_id', 'user_name', 'title']):\n",
    "    sum_list = []\n",
    "    for item in dir_list:\n",
    "        with open(os.path.join(data_dir, item)) as f:\n",
    "            data = json.load(f)['contents']\n",
    "        frame = pd.DataFrame(data, columns=keys)\n",
    "        frame['date'] = pd.to_datetime(item.split('_')[2])\n",
    "        sum_list.append(frame)\n",
    "            \n",
    "    return sum_list\n",
    "\n",
    "\n",
    "def get_tag_data(dir_list):\n",
    "    tag_list = []\n",
    "    for item in dir_list:\n",
    "        with open(os.path.join(data_dir, item)) as f:\n",
    "            data = json.load(f)['contents']\n",
    "            \n",
    "        for temp in data:\n",
    "            frame = pd.DataFrame(temp['tags'], columns=['tags'])\n",
    "            frame['illust_id'] = temp['illust_id']\n",
    "            tag_list.append(frame)\n",
    "\n",
    "    return tag_list\n",
    "\n",
    "\n",
    "# temp1 = get_json_data(dir_list)\n",
    "# print('get json successfully.')\n",
    "# temp2 = get_tag_data(dir_list)\n",
    "# print('get tag successfully.')\n",
    "\n",
    "# pixiv_base_data = pd.concat(temp1, ignore_index=True)\n",
    "\n",
    "# pixiv_tag_data = pd.concat(temp2, ignore_index=True)\n",
    "# print('concat successfully.')\n",
    "\n",
    "\n",
    "# merge_data = pd.merge(pixiv_base_data, pixiv_tag_data, on='illust_id')"
   ]
  },
  {
   "cell_type": "code",
   "execution_count": 41,
   "metadata": {},
   "outputs": [
    {
     "data": {
      "text/plain": [
       "<matplotlib.axes._subplots.AxesSubplot at 0xdaac2b0>"
      ]
     },
     "execution_count": 41,
     "metadata": {},
     "output_type": "execute_result"
    },
    {
     "data": {
      "image/png": "[encoded data removed]",
      "text/plain": [
       "<Figure size 432x288 with 1 Axes>"
      ]
     },
     "metadata": {},
     "output_type": "display_data"
    }
   ],
   "source": [
    "merge_data['tags'].value_counts()[:20].plot(kind='barh')"
   ]
  },
  {
   "cell_type": "code",
   "execution_count": 3,
   "metadata": {},
   "outputs": [],
   "source": [
    "s = merge_data[merge_data['tags'] == '東方']"
   ]
  },
  {
   "cell_type": "code",
   "execution_count": 4,
   "metadata": {},
   "outputs": [
    {
     "data": {
      "text/plain": [
       "<matplotlib.axes._subplots.AxesSubplot at 0xc8fe7d0>"
      ]
     },
     "execution_count": 4,
     "metadata": {},
     "output_type": "execute_result"
    },
    {
     "data": {
      "image/png": "[encoded data removed]",
      "text/plain": [
       "<Figure size 432x288 with 1 Axes>"
      ]
     },
     "metadata": {},
     "output_type": "display_data"
    }
   ],
   "source": [
    "s['date'].value_counts().resample('M').sum().plot(kind='barh')"
   ]
  },
  {
   "cell_type": "code",
   "execution_count": 16,
   "metadata": {},
   "outputs": [
    {
     "data": {
      "text/plain": [
       "<pandas.core.groupby.groupby.DataFrameGroupBy object at 0x0C8DE910>"
      ]
     },
     "execution_count": 16,
     "metadata": {},
     "output_type": "execute_result"
    }
   ],
   "source": [
    "s.set_index('date').groupby(lambda x: x.month)"
   ]
  },
  {
   "cell_type": "code",
   "execution_count": 23,
   "metadata": {},
   "outputs": [],
   "source": [
    "k = s.set_index('date')"
   ]
  },
  {
   "cell_type": "code",
   "execution_count": 32,
   "metadata": {},
   "outputs": [
    {
     "data": {
      "text/plain": [
       "DatetimeIndex(['2011-01-01', '2011-01-01', '2011-01-01', '2011-01-02',\n",
       "               '2011-01-02', '2011-01-01', '2011-01-01', '2011-01-01',\n",
       "               '2011-01-01', '2011-01-01',\n",
       "               ...\n",
       "               '2011-12-31', '2011-12-31', '2011-12-31', '2011-12-31',\n",
       "               '2011-12-31', '2011-12-31', '2011-12-31', '2011-12-31',\n",
       "               '2011-12-31', '2011-12-31'],\n",
       "              dtype='datetime64[ns]', name='date', length=19504, freq=None)"
      ]
     },
     "execution_count": 32,
     "metadata": {},
     "output_type": "execute_result"
    }
   ],
   "source": [
    "k.index"
   ]
  },
  {
   "cell_type": "code",
   "execution_count": 39,
   "metadata": {},
   "outputs": [],
   "source": [
    "q = k.groupby(lambda x: x.month)"
   ]
  },
  {
   "cell_type": "code",
   "execution_count": 3,
   "metadata": {},
   "outputs": [
    {
     "ename": "NameError",
     "evalue": "name 'q' is not defined",
     "output_type": "error",
     "traceback": [
      "\u001b[1;31m---------------------------------------------------------------------------\u001b[0m",
      "\u001b[1;31mNameError\u001b[0m                                 Traceback (most recent call last)",
      "\u001b[1;32m<ipython-input-3-01df0af85423>\u001b[0m in \u001b[0;36m<module>\u001b[1;34m()\u001b[0m\n\u001b[1;32m----> 1\u001b[1;33m \u001b[0mq\u001b[0m\u001b[1;33m.\u001b[0m\u001b[0msize\u001b[0m\u001b[1;33m(\u001b[0m\u001b[1;33m)\u001b[0m\u001b[1;33m.\u001b[0m\u001b[0mplot\u001b[0m\u001b[1;33m(\u001b[0m\u001b[0mkind\u001b[0m\u001b[1;33m=\u001b[0m\u001b[1;34m'line'\u001b[0m\u001b[1;33m)\u001b[0m\u001b[1;33m\u001b[0m\u001b[0m\n\u001b[0m",
      "\u001b[1;31mNameError\u001b[0m: name 'q' is not defined"
     ]
    }
   ],
   "source": [
    "q.size().plot(kind='line')"
   ]
  },
  {
   "cell_type": "code",
   "execution_count": 6,
   "metadata": {},
   "outputs": [],
   "source": [
    "def get_base_csv(start=2010, end=2018):\n",
    "    for i in range(start, end+1):\n",
    "        temp = get_json_data(get_dir_list(date_str=str(i)))\n",
    "        pixiv_base_data = pd.concat(temp, ignore_index=True)\n",
    "        pixiv_base_data.to_csv('{}_base_data.csv'.format(i))"
   ]
  },
  {
   "cell_type": "code",
   "execution_count": 7,
   "metadata": {},
   "outputs": [],
   "source": [
    "get_base_csv()"
   ]
  },
  {
   "cell_type": "code",
   "execution_count": 8,
   "metadata": {},
   "outputs": [],
   "source": [
    "def get_tag_csv(start=2010, end=2018):\n",
    "    for i in range(start, end+1):\n",
    "        temp = get_tag_data(get_dir_list(date_str=str(i)))\n",
    "        pixiv_tag_data = pd.concat(temp, ignore_index=True)\n",
    "        pixiv_tag_data.to_csv('{}_tag_data.csv'.format(i))"
   ]
  },
  {
   "cell_type": "code",
   "execution_count": 9,
   "metadata": {},
   "outputs": [],
   "source": [
    "get_tag_csv()"
   ]
  },
  {
   "cell_type": "code",
   "execution_count": 10,
   "metadata": {},
   "outputs": [],
   "source": [
    "pixiv_base_data = pd.read_csv('2010_base_data.csv')"
   ]
  },
  {
   "cell_type": "code",
   "execution_count": 20,
   "metadata": {},
   "outputs": [],
   "source": [
    "pixiv_base_data = pixiv_base_data.drop('Unnamed: 0', axis=1)"
   ]
  },
  {
   "cell_type": "code",
   "execution_count": 26,
   "metadata": {},
   "outputs": [],
   "source": [
    "pixiv_base_data = pixiv_base_data.set_index('date')"
   ]
  },
  {
   "cell_type": "code",
   "execution_count": 33,
   "metadata": {},
   "outputs": [],
   "source": [
    "pixiv_base_data.index = pd.to_datetime(pixiv_base_data.index)"
   ]
  },
  {
   "cell_type": "code",
   "execution_count": 38,
   "metadata": {},
   "outputs": [
    {
     "data": {
      "text/plain": [
       "1     5133\n",
       "2     4617\n",
       "3     5086\n",
       "4     7987\n",
       "5     8402\n",
       "6     8381\n",
       "7     8624\n",
       "8     8600\n",
       "9     8531\n",
       "10    8840\n",
       "11    8339\n",
       "12    8722\n",
       "dtype: int64"
      ]
     },
     "execution_count": 38,
     "metadata": {},
     "output_type": "execute_result"
    }
   ],
   "source": [
    "pixiv_base_data.groupby(lambda x: x.month).size()"
   ]
  },
  {
   "cell_type": "code",
   "execution_count": 2,
   "metadata": {},
   "outputs": [],
   "source": [
    "def load_csv(start=2010, end=2018):\n",
    "    sum_list = []\n",
    "    for i in range(start, end+1):\n",
    "        temp = pd.read_csv('{}_base_data.csv'.format(i))\n",
    "        sum_list.append(temp)\n",
    "    return sum_list"
   ]
  },
  {
   "cell_type": "code",
   "execution_count": 6,
   "metadata": {},
   "outputs": [],
   "source": [
    "x = pd.concat(load_csv(), ignore_index=True)"
   ]
  },
  {
   "cell_type": "code",
   "execution_count": 7,
   "metadata": {},
   "outputs": [],
   "source": [
    "def load_tag_csv(start=2010, end=2018):\n",
    "    sum_list = []\n",
    "    for i in range(start, end+1):\n",
    "        temp = pd.read_csv('{}_tag_data.csv'.format(i))\n",
    "        sum_list.append(temp)\n",
    "    return sum_list"
   ]
  },
  {
   "cell_type": "code",
   "execution_count": null,
   "metadata": {},
   "outputs": [],
   "source": []
  },
  {
   "cell_type": "code",
   "execution_count": 8,
   "metadata": {},
   "outputs": [],
   "source": [
    "y = pd.concat(load_tag_csv(), ignore_index=True)"
   ]
  },
  {
   "cell_type": "code",
   "execution_count": 18,
   "metadata": {},
   "outputs": [],
   "source": [
    "x.to_csv('pixiv_daily_rank_base.csv')"
   ]
  },
  {
   "cell_type": "code",
   "execution_count": 20,
   "metadata": {},
   "outputs": [],
   "source": [
    "y = y.set_index('illust_id')"
   ]
  },
  {
   "cell_type": "code",
   "execution_count": 28,
   "metadata": {},
   "outputs": [],
   "source": [
    "y.to_csv('pixiv_daily_rank_tag.csv')"
   ]
  },
  {
   "cell_type": "code",
   "execution_count": 38,
   "metadata": {},
   "outputs": [],
   "source": [
    "y = y.reset_index()"
   ]
  },
  {
   "cell_type": "code",
   "execution_count": 42,
   "metadata": {},
   "outputs": [],
   "source": [
    "y.drop_duplicates(inplace=True)"
   ]
  },
  {
   "cell_type": "code",
   "execution_count": 44,
   "metadata": {},
   "outputs": [],
   "source": [
    "y = y.set_index('illust_id')"
   ]
  },
  {
   "cell_type": "code",
   "execution_count": 48,
   "metadata": {},
   "outputs": [],
   "source": [
    "y.to_csv('data/Pixiv/pixiv_daily_rank_tag.csv', encoding='utf_8_sig')"
   ]
  }
 ],
 "metadata": {
  "kernelspec": {
   "display_name": "Python 3",
   "language": "python",
   "name": "python3"
  },
  "language_info": {
   "codemirror_mode": {
    "name": "ipython",
    "version": 3
   },
   "file_extension": ".py",
   "mimetype": "text/x-python",
   "name": "python",
   "nbconvert_exporter": "python",
   "pygments_lexer": "ipython3",
   "version": "3.7.0"
  }
 },
 "nbformat": 4,
 "nbformat_minor": 2
}
